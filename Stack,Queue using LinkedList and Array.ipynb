{
 "cells": [
  {
   "cell_type": "markdown",
   "metadata": {},
   "source": [
    "# Q1) Stack using LinkedList"
   ]
  },
  {
   "cell_type": "code",
   "execution_count": 1,
   "metadata": {},
   "outputs": [],
   "source": [
    "class Node:\n",
    "    def __init__(self,data = None,next = None):\n",
    "        self.data = data\n",
    "        self.next = next"
   ]
  },
  {
   "cell_type": "code",
   "execution_count": 15,
   "metadata": {},
   "outputs": [],
   "source": [
    "class Stack:\n",
    "    def __init__(self):\n",
    "        self.top = None\n",
    "    \n",
    "    def push(self,new_data):\n",
    "        new_node = Node(new_data)\n",
    "        \n",
    "        if self.top == None:\n",
    "            self.top = new_node\n",
    "            \n",
    "        else:\n",
    "            temp = new_node\n",
    "            temp.next = self.top\n",
    "            self.top = temp\n",
    "    \n",
    "    def pop(self):\n",
    "        temp = self.top\n",
    "#         print(\"Element popped is\",self.top.data)\n",
    "        if self.top.next != None:\n",
    "            self.top = self.top.next\n",
    "            temp.next = None\n",
    "            temp = self.top\n",
    "        else:\n",
    "            self.top = None\n",
    "            temp = None\n",
    "    \n",
    "    \n",
    "    def peek(self):\n",
    "        if self.top != None:\n",
    "            print('Element at top is :',self.top.data)\n",
    "        else:\n",
    "            print(\"Stack Empty!!\")\n",
    "    \n",
    "    \n",
    "    def display(self):\n",
    "        temp = self.top\n",
    "        while(temp.next != None):\n",
    "            print(temp.data)\n",
    "            temp = temp.next\n",
    "        print(temp.data)\n",
    "     "
   ]
  },
  {
   "cell_type": "code",
   "execution_count": 19,
   "metadata": {},
   "outputs": [
    {
     "name": "stdout",
     "output_type": "stream",
     "text": [
      "Before Stack:\n",
      "Element at top is : 50\n",
      "50\n",
      "40\n",
      "30\n",
      "20\n",
      "10\n",
      "After Stack:\n",
      "Element at top is : 40\n",
      "40\n",
      "30\n",
      "20\n",
      "10\n"
     ]
    }
   ],
   "source": [
    "stk = Stack()\n",
    "stk.push(10)\n",
    "stk.push(20)\n",
    "stk.push(30)\n",
    "stk.push(40)\n",
    "stk.push(50)\n",
    "print(\"Before Stack:\")\n",
    "stk.peek()\n",
    "stk.display()\n",
    "stk.pop()\n",
    "print(\"After Stack:\")\n",
    "stk.peek()\n",
    "stk.display()\n"
   ]
  },
  {
   "cell_type": "markdown",
   "metadata": {},
   "source": [
    "# Q2) Queue using LinkedList"
   ]
  },
  {
   "cell_type": "code",
   "execution_count": 28,
   "metadata": {},
   "outputs": [],
   "source": [
    "class Node:\n",
    "    def __init__(self,data = None,next = None):\n",
    "        self.data = data\n",
    "        self.next = next\n",
    "\n",
    "class Queue:\n",
    "    def __init__(self):\n",
    "        self.rear = None\n",
    "        self.front = None\n",
    "    \n",
    "    def insert(self,new_data):\n",
    "        new_node = Node(new_data)\n",
    "        print(new_node.data,\"is inserted.\")\n",
    "        \n",
    "        if self.front == None and self.rear == None:\n",
    "            self.front = new_node\n",
    "            self.rear = new_node\n",
    "        else:\n",
    "            temp = new_node\n",
    "            self.rear.next = temp\n",
    "            self.rear = temp\n",
    "    \n",
    "    def delete(self):\n",
    "        temp = self.front\n",
    "        print(temp.data,\"is deleted.\")\n",
    "        self.front = self.front.next\n",
    "        temp.next = None\n",
    "        \n",
    "        if self.front == None:\n",
    "            print(\"Empty Queue\")\n",
    "            self.rear = None\n",
    "    \n",
    "    \n",
    "    def display(self):\n",
    "        temp = self.front\n",
    "        while(temp.next != None):\n",
    "            print(temp.data,end = \"|\")\n",
    "            temp = temp.next\n",
    "        print(temp.data,end = \"|\")\n",
    "        print()\n",
    "            \n",
    "    "
   ]
  },
  {
   "cell_type": "code",
   "execution_count": 29,
   "metadata": {},
   "outputs": [
    {
     "name": "stdout",
     "output_type": "stream",
     "text": [
      "10 is inserted.\n",
      "20 is inserted.\n",
      "30 is inserted.\n",
      "40 is inserted.\n",
      "50 is inserted.\n",
      "60 is inserted.\n",
      "70 is inserted.\n",
      "10|20|30|40|50|60|70|\n",
      "10 is deleted.\n",
      "20 is deleted.\n",
      "30|40|50|60|70|\n"
     ]
    }
   ],
   "source": [
    "que = Queue()\n",
    "que.insert(10)\n",
    "que.insert(20)\n",
    "que.insert(30)\n",
    "que.insert(40)\n",
    "que.insert(50)\n",
    "que.insert(60)\n",
    "que.insert(70)\n",
    "que.display()\n",
    "que.delete()\n",
    "que.delete()\n",
    "que.display()"
   ]
  },
  {
   "cell_type": "markdown",
   "metadata": {},
   "source": [
    "# Q3) Queue using Array"
   ]
  },
  {
   "cell_type": "code",
   "execution_count": 38,
   "metadata": {},
   "outputs": [],
   "source": [
    "class Queue1:\n",
    "    def __init__(self):\n",
    "        self.myqueue = []\n",
    "        self.front = 0\n",
    "        self.rear = 0\n",
    "    \n",
    "    def insert(self,new_data):\n",
    "        if self.rear >= self.front:\n",
    "            self.myqueue.append(new_data)\n",
    "            print(self.myqueue[self.rear],\"is inserted\")\n",
    "            self.rear = self.rear + 1\n",
    "        \n",
    "    \n",
    "    def delete(self):\n",
    "        if self.front <= self.rear:\n",
    "            print(self.myqueue[self.front],\"is deleted\")\n",
    "            self.front = self.front + 1\n",
    "    \n",
    "        else:\n",
    "            print(\"Empty queue\")\n",
    "    \n",
    "    \n",
    "    def display(self):\n",
    "        for k in range(self.front,self.rear):\n",
    "            print(self.myqueue[k],end = \"|\")\n",
    "        print()\n",
    "            "
   ]
  },
  {
   "cell_type": "code",
   "execution_count": 40,
   "metadata": {},
   "outputs": [
    {
     "name": "stdout",
     "output_type": "stream",
     "text": [
      "10 is inserted\n",
      "200 is inserted\n",
      "90 is inserted\n",
      "40 is inserted\n",
      "67 is inserted\n",
      "12 is inserted\n",
      "10|200|90|40|67|12|\n",
      "\n",
      "10 is deleted\n",
      "200 is deleted\n",
      "90 is deleted\n",
      "40|67|12|\n"
     ]
    }
   ],
   "source": [
    "que1= Queue1()\n",
    "que1.insert(10)\n",
    "que1.insert(200)\n",
    "que1.insert(90)\n",
    "que1.insert(40)\n",
    "que1.insert(67)\n",
    "que1.insert(12)\n",
    "que1.display()\n",
    "print()\n",
    "que1.delete()\n",
    "que1.delete()\n",
    "que1.delete()\n",
    "que1.display()"
   ]
  },
  {
   "cell_type": "markdown",
   "metadata": {},
   "source": [
    "# Q4) Stack using Array"
   ]
  },
  {
   "cell_type": "code",
   "execution_count": 68,
   "metadata": {},
   "outputs": [],
   "source": [
    "class Stack1:\n",
    "    def __init__(self):\n",
    "        self.mystack = []\n",
    "        self.top = -1\n",
    "        \n",
    "    def push(self,new_data):\n",
    "        self.mystack.append(new_data)\n",
    "        self.top = self.top + 1\n",
    "        \n",
    "        \n",
    "    def pop(self):\n",
    "        if self.top >= 0:\n",
    "            self.mystack.pop(self.top)\n",
    "            self.top = self.top - 1\n",
    "        else:\n",
    "            print(\"Stack is Empty\")\n",
    "    \n",
    "    def display(self):\n",
    "        for k in range(self.top,-1,-1):\n",
    "            print(self.mystack[k])\n",
    "     "
   ]
  },
  {
   "cell_type": "code",
   "execution_count": 69,
   "metadata": {},
   "outputs": [
    {
     "name": "stdout",
     "output_type": "stream",
     "text": [
      "50\n",
      "40\n",
      "30\n",
      "20\n",
      "10\n",
      "\n",
      "30\n",
      "20\n",
      "10\n"
     ]
    }
   ],
   "source": [
    "stk1 = Stack1()\n",
    "stk1.push(10)\n",
    "stk1.push(20)\n",
    "stk1.push(30)\n",
    "stk1.push(40)\n",
    "stk1.push(50)\n",
    "stk1.display()\n",
    "print()\n",
    "stk1.pop()\n",
    "stk1.pop()\n",
    "stk1.display()"
   ]
  }
 ],
 "metadata": {
  "kernelspec": {
   "display_name": "Python 3",
   "language": "python",
   "name": "python3"
  },
  "language_info": {
   "codemirror_mode": {
    "name": "ipython",
    "version": 3
   },
   "file_extension": ".py",
   "mimetype": "text/x-python",
   "name": "python",
   "nbconvert_exporter": "python",
   "pygments_lexer": "ipython3",
   "version": "3.8.5"
  }
 },
 "nbformat": 4,
 "nbformat_minor": 4
}
